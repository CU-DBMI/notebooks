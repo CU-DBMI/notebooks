{
 "cells": [
  {
   "cell_type": "markdown",
   "id": "3e2d95dc-b4bc-4d1b-bd52-961a2e916b18",
   "metadata": {},
   "source": [
    "# Unused Code Detection Example\n",
    "\n",
    "The following code seeks to demonstrate the detection of unused code with [Vulture](https://github.com/jendrikseipp/vulture)."
   ]
  },
  {
   "cell_type": "code",
   "execution_count": null,
   "id": "e9ab5c9b-8da0-4217-8134-b0f0dc5d32f9",
   "metadata": {},
   "outputs": [],
   "source": [
    "# install vulture\n",
    "%pip install vulture"
   ]
  },
  {
   "cell_type": "code",
   "execution_count": 2,
   "id": "d8dfc9f9-9e9e-40cc-88dd-260a7684cd65",
   "metadata": {},
   "outputs": [],
   "source": [
    "import os\n",
    "import vulture\n",
    "\n",
    "# filename for example python file\n",
    "unused_code_example_filename = \"unused_code_example.py\""
   ]
  },
  {
   "cell_type": "code",
   "execution_count": 3,
   "id": "5cae2120-a7de-4afc-9718-abfc6f1e4670",
   "metadata": {},
   "outputs": [],
   "source": [
    "# generate python file with unused code\n",
    "unused_code_example = \"\"\"\n",
    "# unused imports\n",
    "import os\n",
    "import pandas as pd\n",
    "\n",
    "# unused function\n",
    "def unused_function():\n",
    "    return 1\n",
    "    \n",
    "def used_function():\n",
    "    return 2\n",
    "    \n",
    "# unused variable    \n",
    "unused_var = 5\n",
    "\n",
    "used_var = used_function()\n",
    "\n",
    "# print here \"uses\" the variable\n",
    "print(used_var)\n",
    "\"\"\"\n",
    "\n",
    "# write example python file\n",
    "with open(unused_code_example_filename, \"w\") as file1:\n",
    "    file1.write(unused_code_example)"
   ]
  },
  {
   "cell_type": "code",
   "execution_count": 4,
   "id": "6740734f-c2c0-45c9-8a53-c8c4077ff48e",
   "metadata": {},
   "outputs": [
    {
     "name": "stdout",
     "output_type": "stream",
     "text": [
      "unused_code_example.py:3: unused import 'os' (90% confidence)\n",
      "unused_code_example.py:4: unused import 'pd' (90% confidence)\n",
      "unused_code_example.py:7: unused function 'unused_function' (60% confidence)\n",
      "unused_code_example.py:14: unused variable 'unused_var' (60% confidence)\n"
     ]
    },
    {
     "data": {
      "text/plain": [
       "True"
      ]
     },
     "execution_count": 4,
     "metadata": {},
     "output_type": "execute_result"
    }
   ],
   "source": [
    "# run vulture programmatically\n",
    "# note: True here means a non-zero result was obtained, useful for\n",
    "# detecting errors when using the command line approach above\n",
    "v = vulture.Vulture()\n",
    "v.scavenge([unused_code_example_filename])\n",
    "v.report()"
   ]
  },
  {
   "cell_type": "code",
   "execution_count": 5,
   "id": "b056dfdb-d4e8-4795-a4d0-475aca4c562e",
   "metadata": {},
   "outputs": [],
   "source": [
    "# rewrite the python file, this time without unused code\n",
    "unused_code_example = \"\"\"\n",
    "def used_function():\n",
    "    return 2\n",
    "    \n",
    "used_var = used_function()\n",
    "print(used_var)\n",
    "\"\"\"\n",
    "\n",
    "# remove the previous example\n",
    "os.remove(unused_code_example_filename)\n",
    "\n",
    "# write the new example\n",
    "with open(unused_code_example_filename, \"w\") as file1:\n",
    "    file1.write(unused_code_example)"
   ]
  },
  {
   "cell_type": "code",
   "execution_count": 6,
   "id": "6e42549e-1723-461e-aa8b-5a3bb98d4603",
   "metadata": {},
   "outputs": [
    {
     "data": {
      "text/plain": [
       "False"
      ]
     },
     "execution_count": 6,
     "metadata": {},
     "output_type": "execute_result"
    }
   ],
   "source": [
    "# run vulture programmatically\n",
    "# note: False here means a zero result was obtained, or no issues were detected\n",
    "v = vulture.Vulture()\n",
    "v.scavenge([unused_code_example_filename])\n",
    "v.report()"
   ]
  }
 ],
 "metadata": {
  "kernelspec": {
   "display_name": "Python 3 (ipykernel)",
   "language": "python",
   "name": "python3"
  },
  "language_info": {
   "codemirror_mode": {
    "name": "ipython",
    "version": 3
   },
   "file_extension": ".py",
   "mimetype": "text/x-python",
   "name": "python",
   "nbconvert_exporter": "python",
   "pygments_lexer": "ipython3",
   "version": "3.9.12"
  }
 },
 "nbformat": 4,
 "nbformat_minor": 5
}
