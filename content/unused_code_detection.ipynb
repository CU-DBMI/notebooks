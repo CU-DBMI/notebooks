{
 "cells": [
  {
   "cell_type": "markdown",
   "id": "3e2d95dc-b4bc-4d1b-bd52-961a2e916b18",
   "metadata": {},
   "source": [
    "# Unused Code Detection Example\n",
    "\n",
    "The following code seeks to demonstrate the detection of unused code with [Vulture](https://github.com/jendrikseipp/vulture)."
   ]
  },
  {
   "cell_type": "code",
   "execution_count": 1,
   "id": "d8dfc9f9-9e9e-40cc-88dd-260a7684cd65",
   "metadata": {},
   "outputs": [],
   "source": [
    "import vulture"
   ]
  },
  {
   "cell_type": "code",
   "execution_count": 2,
   "id": "5cae2120-a7de-4afc-9718-abfc6f1e4670",
   "metadata": {},
   "outputs": [],
   "source": [
    "unused_code_example_filename = \"unused_code_example.py\"\n",
    "unused_code_example = \"\"\"\n",
    "import os\n",
    "import pandas as pd\n",
    "\n",
    "def unused_function():\n",
    "    return 1\n",
    "    \n",
    "def used_function():\n",
    "    return 2\n",
    "    \n",
    "used_var = used_function()\n",
    "print(used_var)\n",
    "\"\"\"\n",
    "\n",
    "with open(unused_code_example_filename, \"w\") as file1:\n",
    "    file1.write(unused_code_example)"
   ]
  },
  {
   "cell_type": "code",
   "execution_count": 3,
   "id": "6a7b246b-87f6-4dea-b632-02ce722d81c7",
   "metadata": {},
   "outputs": [
    {
     "name": "stdout",
     "output_type": "stream",
     "text": [
      "unused_code_example.py:2: unused import 'os' (90% confidence)\n",
      "unused_code_example.py:3: unused import 'pd' (90% confidence)\n",
      "unused_code_example.py:5: unused function 'unused_function' (60% confidence)\n"
     ]
    }
   ],
   "source": [
    "!vulture unused_code_example.py"
   ]
  },
  {
   "cell_type": "code",
   "execution_count": 4,
   "id": "6740734f-c2c0-45c9-8a53-c8c4077ff48e",
   "metadata": {},
   "outputs": [
    {
     "name": "stdout",
     "output_type": "stream",
     "text": [
      "unused_code_example.py:2: unused import 'os' (90% confidence)\n",
      "unused_code_example.py:3: unused import 'pd' (90% confidence)\n",
      "unused_code_example.py:5: unused function 'unused_function' (60% confidence)\n"
     ]
    },
    {
     "data": {
      "text/plain": [
       "True"
      ]
     },
     "execution_count": 4,
     "metadata": {},
     "output_type": "execute_result"
    }
   ],
   "source": [
    "v = vulture.Vulture()\n",
    "v.scavenge([unused_code_example_filename])\n",
    "v.report()"
   ]
  },
  {
   "cell_type": "code",
   "execution_count": null,
   "id": "b056dfdb-d4e8-4795-a4d0-475aca4c562e",
   "metadata": {},
   "outputs": [],
   "source": []
  }
 ],
 "metadata": {
  "kernelspec": {
   "display_name": "Python 3 (ipykernel)",
   "language": "python",
   "name": "python3"
  },
  "language_info": {
   "codemirror_mode": {
    "name": "ipython",
    "version": 3
   },
   "file_extension": ".py",
   "mimetype": "text/x-python",
   "name": "python",
   "nbconvert_exporter": "python",
   "pygments_lexer": "ipython3",
   "version": "3.9.12"
  }
 },
 "nbformat": 4,
 "nbformat_minor": 5
}
