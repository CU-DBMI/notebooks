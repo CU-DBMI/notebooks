{
    "cells": [
        {
            "cell_type": "markdown",
            "id": "b0e13904-c0ce-4868-bb3a-555860affda6",
            "metadata": {},
            "source": [
                "# Mermaid Example Notebook\n",
                "\n",
                "Demonstrating how to render mermaid diagram code within a Jupyter notebook.\n",
                "\n",
                "## References\n",
                "\n",
                "- [Mermaid](https://mermaid-js.github.io/mermaid/#/READMEhttps://mermaid-js.github.io/mermaid/#/README)\n",
                "- [Kroki.io](https://kroki.io/https://kroki.io/)"
            ]
        },
        {
            "cell_type": "code",
            "execution_count": 1,
            "id": "173564d3-da35-4754-b40a-a7df1797054f",
            "metadata": {},
            "outputs": [],
            "source": [
                "\"\"\"\n",
                "Example referenced with modifications from:\n",
                "https://mermaid-js.github.io/mermaid/#/Tutorials?id=jupyter-integration-with-mermaid-js\n",
                "and\n",
                "https://docs.kroki.io/kroki/setup/encode-diagram/#python\n",
                "\"\"\"\n",
                "\n",
                "import base64\n",
                "import sys\n",
                "import zlib\n",
                "\n",
                "from IPython.display import Image, display"
            ]
        },
        {
            "cell_type": "code",
            "execution_count": 2,
            "id": "32fa0d2b-6807-4bef-a504-32c829ad4072",
            "metadata": {},
            "outputs": [],
            "source": [
                "# build a function which will assist in rendering diagrams\n",
                "def render_mermaid_diagram(diagram_str: str):\n",
                "    \"\"\"\n",
                "    Renders mermaid diagram within notebook.\n",
                "    \"\"\"\n",
                "    # encode str from mermaid graph code\n",
                "    encoded_diagram_str = base64.urlsafe_b64encode(\n",
                "        zlib.compress(diagram_str.encode(\"utf-8\"), 9)\n",
                "    ).decode(\"ascii\")\n",
                "    # build request url referencing kroki.io\n",
                "    url = f\"https://kroki.io/mermaid/png/{encoded_diagram_str}\"\n",
                "\n",
                "    # display a rendered result from the request url\n",
                "    display(Image(url=url))"
            ]
        },
        {
            "cell_type": "code",
            "execution_count": 3,
            "id": "1179b435-d379-40c4-b55b-257c47ed9d84",
            "metadata": {},
            "outputs": [
                {
                    "data": {
                        "text/html": [
                            "<img src=\"https://kroki.io/mermaid/png/eNrjSsvJL0_OSCwqUfAJ4lJQSFTQ1bVTSAKyksCsZCArGcxKMUQwjbgAkjoMng==\"/>"
                        ],
                        "text/plain": [
                            "<IPython.core.display.Image object>"
                        ]
                    },
                    "metadata": {},
                    "output_type": "display_data"
                }
            ],
            "source": [
                "# render mermaid diagram and display results\n",
                "render_mermaid_diagram(\n",
                "    diagram_str=\"\"\"\n",
                "flowchart LR\n",
                "  a --> b\n",
                "  b --> c\n",
                "  c --> d1\n",
                "  c --> d2\n",
                "\"\"\"\n",
                ")"
            ]
        },
        {
            "cell_type": "code",
            "execution_count": 4,
            "id": "dd99616d-3613-428e-858f-da79bab7926d",
            "metadata": {},
            "outputs": [
                {
                    "data": {
                        "text/html": [
                            "<img src=\"https://kroki.io/mermaid/png/eNrjSsvJL0_OSCwqUfAJ4lJQSFTQ1bVTSAKyksCsZCArGcxKMUQwjYDMFEMwOxXENIIyAdhnENc=\"/>"
                        ],
                        "text/plain": [
                            "<IPython.core.display.Image object>"
                        ]
                    },
                    "metadata": {},
                    "output_type": "display_data"
                }
            ],
            "source": [
                "# render mermaid graph and display results\n",
                "render_mermaid_diagram(\n",
                "    diagram_str=\"\"\"\n",
                "flowchart LR\n",
                "  a --> b\n",
                "  b --> c\n",
                "  c --> d1\n",
                "  c --> d2\n",
                "  d1 --> e\n",
                "  d2 --> e\n",
                "\"\"\"\n",
                ")"
            ]
        }
    ],
    "metadata": {
        "kernelspec": {
            "display_name": "python",
            "language": "python",
            "name": "python"
        },
        "language_info": {
            "codemirror_mode": {
                "name": "ipython",
                "version": 3
            },
            "file_extension": ".py",
            "mimetype": "text/x-python",
            "name": "python",
            "nbconvert_exporter": "python",
            "pygments_lexer": "ipython3",
            "version": "3.9.12"
        }
    },
    "nbformat": 4,
    "nbformat_minor": 5
}