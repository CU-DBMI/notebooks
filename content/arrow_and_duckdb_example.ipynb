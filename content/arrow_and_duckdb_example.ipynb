{
 "cells": [
  {
   "cell_type": "markdown",
   "id": "2e750d4f-68dd-407a-9560-1d4ff4e7e382",
   "metadata": {},
   "source": [
    "# Arrow and DuckDB Example Notebook\n",
    "\n",
    "Demonstrating using Apache Arrow with the DuckDB client via SQL.\n",
    "\n",
    "## References\n",
    "\n",
    "- [Apache Arrow](https://arrow.apache.org/docs/index.html)\n",
    "- [DuckDB](https://duckdb.org/docs/)\n",
    "- [SQL](https://en.wikipedia.org/wiki/SQL)\n",
    "- [Iris Dataset](https://archive.ics.uci.edu/ml/datasets/Iris)\n",
    "    - Creator: R.A. Fisher\n",
    "    - Donor: Michael Marshall (MARSHALL%PLU '@' io.arc.nasa.gov)"
   ]
  },
  {
   "cell_type": "code",
   "execution_count": 18,
   "id": "ef7e0554-6c68-4522-83eb-4f4271ae0eeb",
   "metadata": {},
   "outputs": [],
   "source": [
    "import pyarrow.csv as csv\n",
    "import pyarrow.parquet as parquet\n",
    "import duckdb\n",
    "import pathlib\n",
    "import urllib\n",
    "\n",
    "data_link = \"https://archive.ics.uci.edu/ml/machine-learning-databases/iris/iris.data\""
   ]
  },
  {
   "cell_type": "code",
   "execution_count": 19,
   "id": "56f49eb9-4bc1-49f8-a074-c2ae7ddbfa22",
   "metadata": {},
   "outputs": [],
   "source": [
    "parquet.write_table(\n",
    "    table=csv.read_csv(\n",
    "        input_file=urllib.request.urlopen(data_link),\n",
    "        read_options=csv.ReadOptions(\n",
    "            column_names=[\n",
    "                \"sepal length\",\n",
    "                \"sepal width\",\n",
    "                \"petal length\",\n",
    "                \"petal width\",\n",
    "                \"class\",\n",
    "            ]\n",
    "        ),\n",
    "    ),\n",
    "    where=\"iris.parquet\",\n",
    ")"
   ]
  },
  {
   "cell_type": "code",
   "execution_count": 24,
   "id": "09b61668-b8c1-4b65-8e2a-af4433b5d6e8",
   "metadata": {},
   "outputs": [
    {
     "data": {
      "text/plain": [
       "[PosixPath('iris.parquet')]"
      ]
     },
     "execution_count": 24,
     "metadata": {},
     "output_type": "execute_result"
    }
   ],
   "source": [
    "list(pathlib.Path(\".\").glob(\"*.parquet\"))"
   ]
  },
  {
   "cell_type": "code",
   "execution_count": 27,
   "id": "a16e737c-0e6b-41d7-86bd-9c8b3a176f26",
   "metadata": {},
   "outputs": [
    {
     "data": {
      "text/plain": [
       "pyarrow.Table\n",
       "sepal length: double\n",
       "sepal width: double\n",
       "petal length: double\n",
       "petal width: double\n",
       "class: string\n",
       "----\n",
       "sepal length: [[5.1,4.9,4.7,4.6,5,...,6.7,6.3,6.5,6.2,5.9]]\n",
       "sepal width: [[3.5,3,3.2,3.1,3.6,...,3,2.5,3,3.4,3]]\n",
       "petal length: [[1.4,1.4,1.3,1.5,1.4,...,5.2,5,5.2,5.4,5.1]]\n",
       "petal width: [[0.2,0.2,0.2,0.2,0.2,...,2.3,1.9,2,2.3,1.8]]\n",
       "class: [[\"Iris-setosa\",\"Iris-setosa\",\"Iris-setosa\",\"Iris-setosa\",\"Iris-setosa\",...,\"Iris-virginica\",\"Iris-virginica\",\"Iris-virginica\",\"Iris-virginica\",\"Iris-virginica\"]]"
      ]
     },
     "execution_count": 27,
     "metadata": {},
     "output_type": "execute_result"
    }
   ],
   "source": [
    "duckdb.connect().execute(\n",
    "    f\"\"\"\n",
    "    /*  */\n",
    "    select * from read_parquet('iris.parquet');\n",
    "    \"\"\"\n",
    ").arrow()"
   ]
  },
  {
   "cell_type": "code",
   "execution_count": null,
   "id": "c980b15e-9e18-4921-8276-6163b97d91e4",
   "metadata": {},
   "outputs": [],
   "source": []
  }
 ],
 "metadata": {
  "kernelspec": {
   "display_name": "Python 3 (ipykernel)",
   "language": "python",
   "name": "python3"
  },
  "language_info": {
   "codemirror_mode": {
    "name": "ipython",
    "version": 3
   },
   "file_extension": ".py",
   "mimetype": "text/x-python",
   "name": "python",
   "nbconvert_exporter": "python",
   "pygments_lexer": "ipython3",
   "version": "3.9.12"
  }
 },
 "nbformat": 4,
 "nbformat_minor": 5
}
