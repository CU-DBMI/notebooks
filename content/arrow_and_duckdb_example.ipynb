{
 "cells": [
  {
   "cell_type": "markdown",
   "id": "2e750d4f-68dd-407a-9560-1d4ff4e7e382",
   "metadata": {},
   "source": [
    "# Arrow and DuckDB Example Notebook\n",
    "\n",
    "Demonstrating using Apache Arrow with the DuckDB client via SQL.\n",
    "\n",
    "## References\n",
    "\n",
    "- [Apache Arrow](https://arrow.apache.org/docs/index.html)\n",
    "- [DuckDB](https://duckdb.org/docs/)\n",
    "- [SQL](https://en.wikipedia.org/wiki/SQL)\n",
    "- [Iris Dataset](https://archive.ics.uci.edu/ml/datasets/Iris)\n",
    "    - Creator: R.A. Fisher\n",
    "    - Donor: Michael Marshall (MARSHALL%PLU '@' io.arc.nasa.gov)"
   ]
  },
  {
   "cell_type": "code",
   "execution_count": 1,
   "id": "ef7e0554-6c68-4522-83eb-4f4271ae0eeb",
   "metadata": {},
   "outputs": [],
   "source": [
    "import pathlib\n",
    "import urllib\n",
    "\n",
    "import duckdb\n",
    "import pyarrow.csv as csv\n",
    "import pyarrow.parquet as parquet\n",
    "\n",
    "data_link = \"https://archive.ics.uci.edu/ml/machine-learning-databases/iris/iris.data\""
   ]
  },
  {
   "cell_type": "code",
   "execution_count": 2,
   "id": "56f49eb9-4bc1-49f8-a074-c2ae7ddbfa22",
   "metadata": {},
   "outputs": [],
   "source": [
    "# write a parquet file from iris CSV data\n",
    "parquet.write_table(\n",
    "    table=csv.read_csv(\n",
    "        input_file=urllib.request.urlopen(data_link),\n",
    "        read_options=csv.ReadOptions(\n",
    "            column_names=[\n",
    "                \"sepal length\",\n",
    "                \"sepal width\",\n",
    "                \"petal length\",\n",
    "                \"petal width\",\n",
    "                \"class\",\n",
    "            ]\n",
    "        ),\n",
    "    ),\n",
    "    where=\"iris.parquet\",\n",
    ")"
   ]
  },
  {
   "cell_type": "code",
   "execution_count": 3,
   "id": "09b61668-b8c1-4b65-8e2a-af4433b5d6e8",
   "metadata": {},
   "outputs": [
    {
     "data": {
      "text/plain": [
       "[PosixPath('iris.parquet')]"
      ]
     },
     "execution_count": 3,
     "metadata": {},
     "output_type": "execute_result"
    }
   ],
   "source": [
    "# show our resulting parquet file\n",
    "list(pathlib.Path(\".\").glob(\"*.parquet\"))"
   ]
  },
  {
   "cell_type": "code",
   "execution_count": 4,
   "id": "a16e737c-0e6b-41d7-86bd-9c8b3a176f26",
   "metadata": {},
   "outputs": [
    {
     "data": {
      "text/plain": [
       "pyarrow.Table\n",
       "file_row_number: int64\n",
       "sepal length: double\n",
       "sepal width: double\n",
       "----\n",
       "file_row_number: [[0,1,2,3,4,...,145,146,147,148,149]]\n",
       "sepal length: [[5.1,4.9,4.7,4.6,5,...,6.7,6.3,6.5,6.2,5.9]]\n",
       "sepal width: [[3.5,3,3.2,3.1,3.6,...,3,2.5,3,3.4,3]]"
      ]
     },
     "execution_count": 4,
     "metadata": {},
     "output_type": "execute_result"
    }
   ],
   "source": [
    "# use duckdb to select sepal data with row number as a pyarrow table\n",
    "sepal_table = duckdb.connect().execute(\n",
    "    f\"\"\"\n",
    "    SELECT file_row_number, \"sepal length\", \"sepal width\"\n",
    "    FROM read_parquet('iris.parquet', file_row_number=true);\n",
    "    \"\"\"\n",
    ").arrow()\n",
    "sepal_table"
   ]
  },
  {
   "cell_type": "code",
   "execution_count": 5,
   "id": "c980b15e-9e18-4921-8276-6163b97d91e4",
   "metadata": {},
   "outputs": [
    {
     "data": {
      "text/plain": [
       "pyarrow.Table\n",
       "file_row_number: int64\n",
       "petal length: double\n",
       "petal width: double\n",
       "----\n",
       "file_row_number: [[0,1,2,3,4,...,145,146,147,148,149]]\n",
       "petal length: [[1.4,1.4,1.3,1.5,1.4,...,5.2,5,5.2,5.4,5.1]]\n",
       "petal width: [[0.2,0.2,0.2,0.2,0.2,...,2.3,1.9,2,2.3,1.8]]"
      ]
     },
     "execution_count": 5,
     "metadata": {},
     "output_type": "execute_result"
    }
   ],
   "source": [
    "# use duckdb to select petal data with row number as a pyarrow table\n",
    "petal_table = duckdb.connect().execute(\n",
    "    f\"\"\"\n",
    "    SELECT file_row_number, \"petal length\", \"petal width\"\n",
    "    FROM read_parquet('iris.parquet', file_row_number=true);\n",
    "    \"\"\"\n",
    ").arrow()\n",
    "petal_table"
   ]
  },
  {
   "cell_type": "code",
   "execution_count": 6,
   "id": "2aa72e04-fc6b-4453-b290-4434e98f3499",
   "metadata": {},
   "outputs": [
    {
     "data": {
      "text/plain": [
       "pyarrow.Table\n",
       "file_row_number: int64\n",
       "class: string\n",
       "----\n",
       "file_row_number: [[0,1,2,3,4,...,145,146,147,148,149]]\n",
       "class: [[\"Iris-setosa\",\"Iris-setosa\",\"Iris-setosa\",\"Iris-setosa\",\"Iris-setosa\",...,\"Iris-virginica\",\"Iris-virginica\",\"Iris-virginica\",\"Iris-virginica\",\"Iris-virginica\"]]"
      ]
     },
     "execution_count": 6,
     "metadata": {},
     "output_type": "execute_result"
    }
   ],
   "source": [
    "# use duckdb to select iris class data with row number as a pyarrow table\n",
    "class_table = duckdb.connect().execute(\n",
    "    f\"\"\"\n",
    "    SELECT file_row_number, class\n",
    "    FROM read_parquet('iris.parquet', file_row_number=true);\n",
    "    \"\"\"\n",
    ").arrow()\n",
    "class_table"
   ]
  },
  {
   "cell_type": "code",
   "execution_count": 7,
   "id": "cf1f7274-ac15-4f50-b8f7-a37a87e1f766",
   "metadata": {},
   "outputs": [
    {
     "data": {
      "text/plain": [
       "pyarrow.Table\n",
       "sepal length: double\n",
       "sepal width: double\n",
       "petal length: double\n",
       "petal width: double\n",
       "class: string\n",
       "----\n",
       "sepal length: [[5.1,4.9,4.7,4.6,5,...,6.7,6.3,6.5,6.2,5.9]]\n",
       "sepal width: [[3.5,3,3.2,3.1,3.6,...,3,2.5,3,3.4,3]]\n",
       "petal length: [[1.4,1.4,1.3,1.5,1.4,...,5.2,5,5.2,5.4,5.1]]\n",
       "petal width: [[0.2,0.2,0.2,0.2,0.2,...,2.3,1.9,2,2.3,1.8]]\n",
       "class: [[\"Iris-setosa\",\"Iris-setosa\",\"Iris-setosa\",\"Iris-setosa\",\"Iris-setosa\",...,\"Iris-virginica\",\"Iris-virginica\",\"Iris-virginica\",\"Iris-virginica\",\"Iris-virginica\"]]"
      ]
     },
     "execution_count": 7,
     "metadata": {},
     "output_type": "execute_result"
    }
   ],
   "source": [
    "# use duckdb to join pyarrow table data using the python variable names as tables\n",
    "joined_result = duckdb.connect().execute(\n",
    "    f\"\"\"\n",
    "    SELECT \n",
    "        sepal_table.\"sepal length\",\n",
    "        sepal_table.\"sepal width\",\n",
    "        petal_table.\"petal length\",\n",
    "        petal_table.\"petal width\",\n",
    "        class_table.class\n",
    "    FROM sepal_table\n",
    "    LEFT JOIN petal_table ON\n",
    "        petal_table.file_row_number = sepal_table.file_row_number\n",
    "    LEFT JOIN class_table ON\n",
    "        class_table.file_row_number = sepal_table.file_row_number\n",
    "    \"\"\"\n",
    ").arrow()\n",
    "joined_result"
   ]
  },
  {
   "cell_type": "code",
   "execution_count": 8,
   "id": "5f4ba3cb-92e4-40a3-b3f8-e9bc92d9b892",
   "metadata": {},
   "outputs": [
    {
     "data": {
      "text/plain": [
       "True"
      ]
     },
     "execution_count": 8,
     "metadata": {},
     "output_type": "execute_result"
    }
   ],
   "source": [
    "# double check that our joined result is the same as the original parquet file\n",
    "joined_result.equals(parquet.read_table(\"iris.parquet\"))"
   ]
  }
 ],
 "metadata": {
  "kernelspec": {
   "display_name": "Python 3 (ipykernel)",
   "language": "python",
   "name": "python3"
  },
  "language_info": {
   "codemirror_mode": {
    "name": "ipython",
    "version": 3
   },
   "file_extension": ".py",
   "mimetype": "text/x-python",
   "name": "python",
   "nbconvert_exporter": "python",
   "pygments_lexer": "ipython3",
   "version": "3.9.12"
  }
 },
 "nbformat": 4,
 "nbformat_minor": 5
}
